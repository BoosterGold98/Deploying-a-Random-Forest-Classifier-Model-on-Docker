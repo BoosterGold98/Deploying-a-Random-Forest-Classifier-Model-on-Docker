{
  "nbformat": 4,
  "nbformat_minor": 0,
  "metadata": {
    "colab": {
      "name": "Random_Forest_test.ipynb",
      "provenance": [],
      "collapsed_sections": [],
      "authorship_tag": "ABX9TyMchjyqoFJVbmuNHLsM3cYF",
      "include_colab_link": true
    },
    "kernelspec": {
      "name": "python3",
      "display_name": "Python 3"
    }
  },
  "cells": [
    {
      "cell_type": "markdown",
      "metadata": {
        "id": "view-in-github",
        "colab_type": "text"
      },
      "source": [
        "<a href=\"https://colab.research.google.com/github/BoosterGold98/Deploying-a-Random-Forest-Classifier-Model-on-Docker/blob/master/Random_Forest_test.ipynb\" target=\"_parent\"><img src=\"https://colab.research.google.com/assets/colab-badge.svg\" alt=\"Open In Colab\"/></a>"
      ]
    },
    {
      "cell_type": "markdown",
      "metadata": {
        "id": "upMaMdYCHENi",
        "colab_type": "text"
      },
      "source": [
        "Flasgger is mostly used for API documentation and here it will be used to create an User Interface for our ML model.\n",
        "\n",
        "Ngrok is used to create a secure tunnel for local host address through public URL. Thus, this code can be run on Google Colaboratory."
      ]
    },
    {
      "cell_type": "code",
      "metadata": {
        "id": "STedwgsQnTEw",
        "colab_type": "code",
        "colab": {}
      },
      "source": [
        "!pip install flask-ngrok\n",
        "!pip install flasgger"
      ],
      "execution_count": null,
      "outputs": []
    },
    {
      "cell_type": "code",
      "metadata": {
        "id": "U2BjYaLrmWRI",
        "colab_type": "code",
        "colab": {}
      },
      "source": [
        "from flask import Flask, request\n",
        "import numpy as np\n",
        "import pickle\n",
        "import pandas as pd\n",
        "import flasgger\n",
        "from flasgger import Swagger\n",
        "from flask_ngrok import run_with_ngrok"
      ],
      "execution_count": null,
      "outputs": []
    },
    {
      "cell_type": "code",
      "metadata": {
        "id": "4lx1Iy1Smf1T",
        "colab_type": "code",
        "colab": {}
      },
      "source": [
        "# Running app through ngrok tunnelling and on Swagger UI\n",
        "app=Flask(__name__)\n",
        "swagger = Swagger(app)\n",
        "run_with_ngrok(app)"
      ],
      "execution_count": null,
      "outputs": []
    },
    {
      "cell_type": "code",
      "metadata": {
        "id": "kuDhcVJYmh5R",
        "colab_type": "code",
        "colab": {}
      },
      "source": [
        "# Loading the model\n",
        "pickle_in = open(\"model.pkl\",\"rb\")\n",
        "classifier=pickle.load(pickle_in)"
      ],
      "execution_count": null,
      "outputs": []
    },
    {
      "cell_type": "code",
      "metadata": {
        "id": "D0GN30P2mkl-",
        "colab_type": "code",
        "colab": {}
      },
      "source": [
        "# first page\n",
        "@app.route('/')\n",
        "def welcome():\n",
        "    return \"add apidocs after the url\""
      ],
      "execution_count": null,
      "outputs": []
    },
    {
      "cell_type": "code",
      "metadata": {
        "id": "Ngv4Gi48mrtb",
        "colab_type": "code",
        "colab": {}
      },
      "source": [
        "# taking input via form\n",
        "@app.route('/predict',methods=[\"Get\"])\n",
        "def predict_iris():\n",
        "    \n",
        "    \"\"\"Uses Iris Dataset \n",
        "    This is using docstrings for specifications.\n",
        "    ---\n",
        "    parameters:  \n",
        "      - name: sepal_length\n",
        "        in: query\n",
        "        type: number\n",
        "        required: true\n",
        "      - name: sepal_width\n",
        "        in: query\n",
        "        type: number\n",
        "        required: true\n",
        "      - name: petal_length\n",
        "        in: query\n",
        "        type: number\n",
        "        required: true\n",
        "      - name: petal_width\n",
        "        in: query\n",
        "        type: number\n",
        "        required: true\n",
        "    responses:\n",
        "        200:\n",
        "            description: The output values\n",
        "        \n",
        "    \"\"\"\n",
        "    s_length=request.args.get(\"sepal_length\")\n",
        "    s_width=request.args.get(\"sepal_width\")\n",
        "    p_length=request.args.get(\"petal_length\")\n",
        "    p_width=request.args.get(\"petal_width\")\n",
        "    prediction=classifier.predict([[s_length,s_width,p_length,p_width]])\n",
        "    print(prediction)\n",
        "    return \"The answer is \"+str(prediction)"
      ],
      "execution_count": null,
      "outputs": []
    },
    {
      "cell_type": "code",
      "metadata": {
        "id": "zFJC9PbGB8T7",
        "colab_type": "code",
        "colab": {}
      },
      "source": [
        "# taking input via text file \n",
        "@app.route('/predict_file',methods=[\"POST\"])\n",
        "def predict_iris_file():\n",
        "    \"\"\"Uses Iris Dataset \n",
        "    This is using docstrings for specifications.\n",
        "    ---\n",
        "    parameters:\n",
        "      - name: file\n",
        "        in: formData\n",
        "        type: file\n",
        "        required: true\n",
        "      \n",
        "    responses:\n",
        "        200:\n",
        "            description: The output values\n",
        "        \n",
        "    \"\"\"\n",
        "    df_test=pd.read_csv(request.files.get(\"file\"))\n",
        "    print(df_test.head())\n",
        "    prediction=classifier.predict(df_test)\n",
        "    \n",
        "    return str(list(prediction))"
      ],
      "execution_count": null,
      "outputs": []
    },
    {
      "cell_type": "code",
      "metadata": {
        "id": "LJfjkMtCCBZU",
        "colab_type": "code",
        "colab": {}
      },
      "source": [
        "if __name__=='__main__':\n",
        "    app.run()"
      ],
      "execution_count": null,
      "outputs": []
    }
  ]
}