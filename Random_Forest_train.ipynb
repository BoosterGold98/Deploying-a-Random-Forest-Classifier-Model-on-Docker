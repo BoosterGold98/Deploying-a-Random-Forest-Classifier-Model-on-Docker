{
  "nbformat": 4,
  "nbformat_minor": 0,
  "metadata": {
    "colab": {
      "name": "Random_Forest_train.ipynb",
      "provenance": [],
      "collapsed_sections": [],
      "authorship_tag": "ABX9TyMzcXUXQbtfq2/nQlkQPR+f",
      "include_colab_link": true
    },
    "kernelspec": {
      "name": "python3",
      "display_name": "Python 3"
    }
  },
  "cells": [
    {
      "cell_type": "markdown",
      "metadata": {
        "id": "view-in-github",
        "colab_type": "text"
      },
      "source": [
        "<a href=\"https://colab.research.google.com/github/BoosterGold98/Deploying-a-Random-Forest-Classifier-Model-on-Docker/blob/master/Random_Forest_train.ipynb\" target=\"_parent\"><img src=\"https://colab.research.google.com/assets/colab-badge.svg\" alt=\"Open In Colab\"/></a>"
      ]
    },
    {
      "cell_type": "markdown",
      "metadata": {
        "id": "dePoWNatHjIP",
        "colab_type": "text"
      },
      "source": [
        "This part is for training of the Random Forest Classifier model and saving it as a pickle file. Iris dataset is used here to train the model which is available in the scikit-learn library."
      ]
    },
    {
      "cell_type": "code",
      "metadata": {
        "id": "BivZ1TXbjwEf",
        "colab_type": "code",
        "colab": {}
      },
      "source": [
        "# Random Forest Classifier\n",
        "from sklearn.ensemble import RandomForestClassifier\n",
        "from sklearn.datasets import load_iris\n",
        "from sklearn.model_selection import train_test_split\n",
        "from sklearn.metrics import accuracy_score\n",
        "import pandas as pd\n",
        "import pickle"
      ],
      "execution_count": null,
      "outputs": []
    },
    {
      "cell_type": "code",
      "metadata": {
        "id": "5jG5kgIFkA0r",
        "colab_type": "code",
        "colab": {}
      },
      "source": [
        "# loading the dataset\n",
        "iris = load_iris()\n",
        "X = iris.data\n",
        "y = iris.target"
      ],
      "execution_count": null,
      "outputs": []
    },
    {
      "cell_type": "code",
      "metadata": {
        "id": "DWUXZ3-YkDCQ",
        "colab_type": "code",
        "colab": {}
      },
      "source": [
        "# Split the data\n",
        "X_train, X_test, y_train, y_test = train_test_split(X, y, random_state=42, test_size=0.5)"
      ],
      "execution_count": null,
      "outputs": []
    },
    {
      "cell_type": "code",
      "metadata": {
        "id": "szbKizvskF4h",
        "colab_type": "code",
        "colab": {}
      },
      "source": [
        "# Build the model\n",
        "clf = RandomForestClassifier(n_estimators=10)"
      ],
      "execution_count": null,
      "outputs": []
    },
    {
      "cell_type": "code",
      "metadata": {
        "id": "h72tztTZkH2z",
        "colab_type": "code",
        "colab": {
          "base_uri": "https://localhost:8080/",
          "height": 151
        },
        "outputId": "bef4907c-3b5d-4b71-a37b-28dc4040e84a"
      },
      "source": [
        "# Train the classifier\n",
        "clf.fit(X_train, y_train)"
      ],
      "execution_count": null,
      "outputs": [
        {
          "output_type": "execute_result",
          "data": {
            "text/plain": [
              "RandomForestClassifier(bootstrap=True, ccp_alpha=0.0, class_weight=None,\n",
              "                       criterion='gini', max_depth=None, max_features='auto',\n",
              "                       max_leaf_nodes=None, max_samples=None,\n",
              "                       min_impurity_decrease=0.0, min_impurity_split=None,\n",
              "                       min_samples_leaf=1, min_samples_split=2,\n",
              "                       min_weight_fraction_leaf=0.0, n_estimators=10,\n",
              "                       n_jobs=None, oob_score=False, random_state=None,\n",
              "                       verbose=0, warm_start=False)"
            ]
          },
          "metadata": {
            "tags": []
          },
          "execution_count": 6
        }
      ]
    },
    {
      "cell_type": "code",
      "metadata": {
        "id": "d9GGLbjtkKlX",
        "colab_type": "code",
        "colab": {}
      },
      "source": [
        "# Predictions\n",
        "predicted = clf.predict(X_test)"
      ],
      "execution_count": null,
      "outputs": []
    },
    {
      "cell_type": "code",
      "metadata": {
        "id": "IjYi2dO2kMtw",
        "colab_type": "code",
        "colab": {
          "base_uri": "https://localhost:8080/",
          "height": 34
        },
        "outputId": "91e02378-530f-4c2f-f591-d4be62c5a52e"
      },
      "source": [
        "# Check accuracy\n",
        "print(accuracy_score(predicted, y_test))"
      ],
      "execution_count": null,
      "outputs": [
        {
          "output_type": "stream",
          "text": [
            "0.96\n"
          ],
          "name": "stdout"
        }
      ]
    },
    {
      "cell_type": "code",
      "metadata": {
        "id": "jblK16MGk1jG",
        "colab_type": "code",
        "colab": {}
      },
      "source": [
        "with open('/content/sample_data/model.pkl', 'wb') as model_pkl:\n",
        "    pickle.dump(clf, model_pkl)"
      ],
      "execution_count": null,
      "outputs": []
    }
  ]
}